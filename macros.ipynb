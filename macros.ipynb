{
 "cells": [
  {
   "cell_type": "markdown",
   "metadata": {},
   "source": [
    "# Macros "
   ]
  },
  {
   "cell_type": "markdown",
   "metadata": {},
   "source": [
    "## Recap\n",
    "\n",
    "Last time we spoke about how syntax is represented in Julia. \n",
    "\n",
    "Recall, Julia syntax is represented as an `Expr` object."
   ]
  },
  {
   "cell_type": "code",
   "execution_count": 1,
   "metadata": {},
   "outputs": [
    {
     "name": "stdout",
     "output_type": "stream",
     "text": [
      "Expr\n",
      "  head: Symbol call\n",
      "  args: Array{Any}("
     ]
    },
    {
     "name": "stdout",
     "output_type": "stream",
     "text": [
      "(3"
     ]
    },
    {
     "name": "stdout",
     "output_type": "stream",
     "text": [
      ",))\n",
      "    1: Symbol +\n",
      "    2: Int64 1\n",
      "    3: Int64 "
     ]
    },
    {
     "name": "stdout",
     "output_type": "stream",
     "text": [
      "2\n"
     ]
    }
   ],
   "source": [
    "dump(:(1+2))"
   ]
  },
  {
   "cell_type": "markdown",
   "metadata": {},
   "source": [
    "Working with `Expr`s directly is a bit yucky, so we can use *quoting* instead."
   ]
  },
  {
   "cell_type": "code",
   "execution_count": 2,
   "metadata": {},
   "outputs": [
    {
     "data": {
      "text/plain": [
       "quote\n",
       "    #= /Users/anguslewis/Documents/Julia_Meta_Talk/macros.ipynb:2 =#\n",
       "    1 + 2\n",
       "end"
      ]
     },
     "metadata": {},
     "output_type": "display_data"
    }
   ],
   "source": [
    "ex = quote \n",
    "    1+2\n",
    "end"
   ]
  },
  {
   "cell_type": "markdown",
   "metadata": {},
   "source": [
    "We evaluate expressions with "
   ]
  },
  {
   "cell_type": "code",
   "execution_count": 3,
   "metadata": {},
   "outputs": [
    {
     "data": {
      "text/plain": [
       "3"
      ]
     },
     "metadata": {},
     "output_type": "display_data"
    }
   ],
   "source": [
    "eval(ex)"
   ]
  },
  {
   "cell_type": "markdown",
   "metadata": {},
   "source": [
    "This executes in the *global* scope"
   ]
  },
  {
   "cell_type": "code",
   "execution_count": 4,
   "metadata": {},
   "outputs": [
    {
     "data": {
      "text/plain": [
       "10"
      ]
     },
     "metadata": {},
     "output_type": "display_data"
    }
   ],
   "source": [
    "c=0\n",
    "ex = :(c+=1)\n",
    "function incerement_10()\n",
    "    for n in 1:10\n",
    "        eval(ex)\n",
    "    end\n",
    "    return nothing\n",
    "end\n",
    "incerement_10()\n",
    "c"
   ]
  },
  {
   "cell_type": "markdown",
   "metadata": {},
   "source": [
    "Wierd! (^this is a very bad idea btw)"
   ]
  },
  {
   "cell_type": "markdown",
   "metadata": {},
   "source": [
    "### why?\n",
    "There are advantages to representing syntax internally (as opposed to as a string) -- introsepection, more conveninent destructuring of code. For most use cases, it doesn't matter. \n",
    "\n",
    "### Uses\n",
    "Typically, we can achieve all we need with normal julia code, but metaprogramming can come in handy, mainly for automatic code generation -- I've used it for testing or generalising methods for differenet types. E.g."
   ]
  },
  {
   "cell_type": "code",
   "execution_count": 5,
   "metadata": {},
   "outputs": [
    {
     "data": {
      "text/plain": [
       "my_angle(0.8414709848078965)"
      ]
     },
     "metadata": {},
     "output_type": "display_data"
    }
   ],
   "source": [
    "struct my_angle\n",
    "    a::Float64\n",
    "end\n",
    "\n",
    "for f in (:sin, :cos, :tan, :tanh, :cosh, :sinh, :exp)\n",
    "    @eval Base.$f(x::my_angle) = my_angle($f(x.a))\n",
    "end\n",
    "a = my_angle(1.0)\n",
    "sin(a)"
   ]
  },
  {
   "cell_type": "markdown",
   "metadata": {},
   "source": [
    "# Macros\n",
    "Are another big use of metaprogramming."
   ]
  },
  {
   "cell_type": "markdown",
   "metadata": {},
   "source": [
    "By being able to represent code within Julia we can create `function`s to manipulate `Expr`essions and then `eval`uate them at run-time. \n",
    "```\n",
    "f(expr1)->eval(expr2)\n",
    "```\n",
    "**So, what's the point in Macros?**\n",
    "\n",
    "Over and above `f(expr1)->eval(expr2)`, macros allow code to be executed *before* the full program is run (before run time).\n",
    "\n",
    "Macros allow us to manipulate and insert code at *compile time* (parse time?). This is in constrast to `eval(expr)` which only evaluate at run time. \n",
    "\n",
    "I think this is easiest to demonstrate by examples. \n",
    "\n",
    "First, define a macro to do some work"
   ]
  },
  {
   "cell_type": "code",
   "execution_count": 6,
   "metadata": {},
   "outputs": [
    {
     "data": {
      "text/plain": [
       "@mymacro (macro with 1 method)"
      ]
     },
     "metadata": {},
     "output_type": "display_data"
    }
   ],
   "source": [
    "macro mymacro(x)\n",
    "    @show x\n",
    "    y=1+x\n",
    "    @show y\n",
    "    return :($(esc(x))+$y)\n",
    "end"
   ]
  },
  {
   "cell_type": "markdown",
   "metadata": {},
   "source": [
    "Now define an \"equivalent\" expression"
   ]
  },
  {
   "cell_type": "code",
   "execution_count": 7,
   "metadata": {},
   "outputs": [
    {
     "data": {
      "text/plain": [
       "expr (generic function with 1 method)"
      ]
     },
     "metadata": {},
     "output_type": "display_data"
    }
   ],
   "source": [
    "expr(x) = quote \n",
    "    @show $x\n",
    "    y = 1+$x\n",
    "    @show y\n",
    "    $x+y\n",
    "end"
   ]
  },
  {
   "cell_type": "markdown",
   "metadata": {},
   "source": [
    "To see the difference between evaluating an expression and a macro, consider the following two functions. "
   ]
  },
  {
   "cell_type": "code",
   "execution_count": 8,
   "metadata": {},
   "outputs": [
    {
     "name": "stdout",
     "output_type": "stream",
     "text": [
      "x = 1\n",
      "y = 2\n"
     ]
    },
    {
     "data": {
      "text/plain": [
       "f (generic function with 1 method)"
      ]
     },
     "metadata": {},
     "output_type": "display_data"
    }
   ],
   "source": [
    "f(z) = z + @mymacro(1)"
   ]
  },
  {
   "cell_type": "code",
   "execution_count": 9,
   "metadata": {},
   "outputs": [
    {
     "data": {
      "text/plain": [
       "g (generic function with 1 method)"
      ]
     },
     "metadata": {},
     "output_type": "display_data"
    }
   ],
   "source": [
    "g(z) = z + eval(expr(1))"
   ]
  },
  {
   "cell_type": "markdown",
   "metadata": {},
   "source": [
    "For a third comparison, also define a third equivalent function without macros or expressions"
   ]
  },
  {
   "cell_type": "code",
   "execution_count": 10,
   "metadata": {},
   "outputs": [
    {
     "data": {
      "text/plain": [
       "h (generic function with 1 method)"
      ]
     },
     "metadata": {},
     "output_type": "display_data"
    }
   ],
   "source": [
    "function h(z)\n",
    "    x=1\n",
    "    @show x\n",
    "    y = 1+x\n",
    "    @show y\n",
    "    return z + x+y\n",
    "end"
   ]
  },
  {
   "cell_type": "markdown",
   "metadata": {},
   "source": [
    "Already, the keen eyed viewer might have noticed the difference. \n",
    "\n",
    "Now observe what happens when we execute the functions. "
   ]
  },
  {
   "cell_type": "code",
   "execution_count": 11,
   "metadata": {},
   "outputs": [
    {
     "data": {
      "text/plain": [
       "4"
      ]
     },
     "metadata": {},
     "output_type": "display_data"
    }
   ],
   "source": [
    "f(1)"
   ]
  },
  {
   "cell_type": "code",
   "execution_count": 12,
   "metadata": {},
   "outputs": [
    {
     "name": "stdout",
     "output_type": "stream",
     "text": [
      "1 = 1\n",
      "y = 2\n"
     ]
    },
    {
     "data": {
      "text/plain": [
       "4"
      ]
     },
     "metadata": {},
     "output_type": "display_data"
    }
   ],
   "source": [
    "g(1)"
   ]
  },
  {
   "cell_type": "code",
   "execution_count": 13,
   "metadata": {},
   "outputs": [
    {
     "name": "stdout",
     "output_type": "stream",
     "text": [
      "x = 1\n",
      "y = 2\n"
     ]
    },
    {
     "data": {
      "text/plain": [
       "4"
      ]
     },
     "metadata": {},
     "output_type": "display_data"
    }
   ],
   "source": [
    "h(1)"
   ]
  },
  {
   "cell_type": "markdown",
   "metadata": {},
   "source": [
    "Another (more concrete) way to spot the difference is to look at the lowered code. The lowered version of the code is the code which is actually run when we execute the function. "
   ]
  },
  {
   "cell_type": "markdown",
   "metadata": {},
   "source": [
    "```julia \n",
    "@code_lowered f(1)\n",
    "CodeInfo(\n",
    "1 ─ %1 = 1 + 2\n",
    "│   %2 = z + %1\n",
    "└──      return %2\n",
    ")\n",
    "```\n",
    "---\n",
    "```julia \n",
    "@code_lowered g(1) \n",
    "CodeInfo(\n",
    "1 ─ %1 = Main.expr(1)\n",
    "│   %2 = Main.eval(%1)\n",
    "│   %3 = z + %2\n",
    "└──      return %3\n",
    ")\n",
    "```\n",
    "\n",
    "\n",
    "---\n",
    "```julia \n",
    "@code_lowered h(1)\n",
    "CodeInfo(\n",
    "1 ─       x = 1\n",
    "│         value@_4 = x\n",
    "│   %3  = x\n",
    "│   %4  = Base.repr(%3)\n",
    "│         Base.println(\"x = \", %4)\n",
    "│         value@_4\n",
    "│         y = 1 + x\n",
    "│         value@_3 = y\n",
    "│   %9  = y\n",
    "│   %10 = Base.repr(%9)\n",
    "│         Base.println(\"y = \", %10)\n",
    "│         value@_3\n",
    "│   %13 = z + x + y\n",
    "└──       return %13\n",
    ")\n",
    "```"
   ]
  },
  {
   "cell_type": "markdown",
   "metadata": {},
   "source": [
    "Notice that `f(1)` contains only the expression which results from the macro (line %2); `g(1)` contains a call to `eval(expr(1))` (lines 1% and 2%); `h(1)` is like `g(1)` except the expression is directly implmented in the function call. \n",
    "\n",
    "Another example is the following: "
   ]
  },
  {
   "cell_type": "code",
   "execution_count": 14,
   "metadata": {},
   "outputs": [
    {
     "data": {
      "text/plain": [
       "@add_generic_fields (macro with 1 method)"
      ]
     },
     "metadata": {},
     "output_type": "display_data"
    }
   ],
   "source": [
    "# https://nbviewer.org/github/crstnbr/JuliaWorkshop18/blob/master/2%20Tips%20and%20tricks/optional_field_inheritance.ipynb\n",
    "macro add_generic_fields()\n",
    "    return esc(quote\n",
    "        one_field::Int\n",
    "        another::Int\n",
    "        yet_another::Float64\n",
    "        a::Vector\n",
    "        b::Vector\n",
    "        f::Function\n",
    "    end)\n",
    "end"
   ]
  },
  {
   "cell_type": "code",
   "execution_count": 15,
   "metadata": {},
   "outputs": [],
   "source": [
    "struct MyType\n",
    "    @add_generic_fields\n",
    "    specific_field1::Int\n",
    "    # more fields # \n",
    "end\n",
    "struct YourType\n",
    "    @add_generic_fields\n",
    "    specific_field2::Int\n",
    "    # more fields # \n",
    "end"
   ]
  },
  {
   "cell_type": "code",
   "execution_count": 16,
   "metadata": {},
   "outputs": [
    {
     "data": {
      "text/plain": [
       "(:one_field, :another, :yet_another, :a, :b, :f, :specific_field1)"
      ]
     },
     "metadata": {},
     "output_type": "display_data"
    }
   ],
   "source": [
    "fieldnames(MyType)"
   ]
  },
  {
   "cell_type": "code",
   "execution_count": 17,
   "metadata": {},
   "outputs": [
    {
     "data": {
      "text/plain": [
       "(:one_field, :another, :yet_another, :a, :b, :f, :specific_field2)"
      ]
     },
     "metadata": {},
     "output_type": "display_data"
    }
   ],
   "source": [
    "fieldnames(YourType)"
   ]
  },
  {
   "cell_type": "markdown",
   "metadata": {},
   "source": [
    "I don't think there is a way to do this without macros. Unlike function `struct` definitions are never evaluated, so there is no possibility to insert an expression. i.e. you can't do "
   ]
  },
  {
   "cell_type": "code",
   "execution_count": 18,
   "metadata": {},
   "outputs": [],
   "source": [
    "# struct MyType \n",
    "#     eval(generic_fields_expr)\n",
    "#     specific_field\n",
    "# end"
   ]
  },
  {
   "cell_type": "markdown",
   "metadata": {},
   "source": [
    "The closest I can get is; "
   ]
  },
  {
   "cell_type": "code",
   "execution_count": 19,
   "metadata": {},
   "outputs": [
    {
     "data": {
      "text/plain": [
       "struct_with_fields (generic function with 1 method)"
      ]
     },
     "metadata": {},
     "output_type": "display_data"
    }
   ],
   "source": [
    "function struct_with_fields(name::Symbol,specific_field::Symbol)\n",
    "    return eval(quote \n",
    "        struct $name\n",
    "            # generic fields\n",
    "            one_field::Int\n",
    "            another::Int\n",
    "            yet_another::Float64\n",
    "            a::Vector\n",
    "            b::Vector\n",
    "            f::Function\n",
    "            $specific_field\n",
    "        end\n",
    "    end)\n",
    "end"
   ]
  },
  {
   "cell_type": "code",
   "execution_count": 20,
   "metadata": {},
   "outputs": [
    {
     "data": {
      "text/plain": [
       "(:one_field, :another, :yet_another, :a, :b, :f, :her_field)"
      ]
     },
     "metadata": {},
     "output_type": "display_data"
    }
   ],
   "source": [
    "struct_with_fields(:HerType,:her_field)\n",
    "fieldnames(HerType)"
   ]
  },
  {
   "cell_type": "markdown",
   "metadata": {},
   "source": [
    "One place where macros are useful is constructing big floats. \n",
    "\n",
    "Consider writing a long float in an expression"
   ]
  },
  {
   "cell_type": "code",
   "execution_count": 21,
   "metadata": {},
   "outputs": [
    {
     "data": {
      "text/plain": [
       "0.0"
      ]
     },
     "metadata": {},
     "output_type": "display_data"
    }
   ],
   "source": [
    "a=0.123456789012345678901234567890-0.123456789012345678"
   ]
  },
  {
   "cell_type": "code",
   "execution_count": 22,
   "metadata": {},
   "outputs": [
    {
     "data": {
      "text/plain": [
       "true"
      ]
     },
     "metadata": {},
     "output_type": "display_data"
    }
   ],
   "source": [
    "a==0.0"
   ]
  },
  {
   "cell_type": "markdown",
   "metadata": {},
   "source": [
    "The problem is, when the long float is parsed into julia code, it is parsed as a regular Float64, thereby dropping the last 12 digits. A macro can be used to manipulate the long float at parse time, into a `BigFloat`"
   ]
  },
  {
   "cell_type": "code",
   "execution_count": 23,
   "metadata": {},
   "outputs": [
    {
     "data": {
      "text/plain": [
       "1.531348335790184029713273048400878906249999999999999999999999582792173561026788e-18"
      ]
     },
     "metadata": {},
     "output_type": "display_data"
    }
   ],
   "source": [
    "a=big\"0.123456789012345678901234567890\"-0.123456789012345678"
   ]
  },
  {
   "cell_type": "markdown",
   "metadata": {},
   "source": [
    "Since the number is parsed as a float, we can't even do this"
   ]
  },
  {
   "cell_type": "code",
   "execution_count": 24,
   "metadata": {},
   "outputs": [
    {
     "data": {
      "text/plain": [
       "0.12345678901234567736988623209981597028672695159912109375"
      ]
     },
     "metadata": {},
     "output_type": "display_data"
    }
   ],
   "source": [
    "BigFloat(0.123456789012345678901234567890)"
   ]
  },
  {
   "cell_type": "markdown",
   "metadata": {},
   "source": [
    "The code above returs a BigFloat, but is rounded. C.f."
   ]
  },
  {
   "cell_type": "code",
   "execution_count": 25,
   "metadata": {},
   "outputs": [
    {
     "data": {
      "text/plain": [
       "0.1234567890123456789012345678899999999999999999999999999999999999999999999999996"
      ]
     },
     "metadata": {},
     "output_type": "display_data"
    }
   ],
   "source": [
    "big\"0.123456789012345678901234567890\""
   ]
  },
  {
   "cell_type": "code",
   "execution_count": 26,
   "metadata": {},
   "outputs": [
    {
     "data": {
      "text/plain": [
       "1.531348335790184029713273048400878906249999999999999999999999582792173561026788e-18"
      ]
     },
     "metadata": {},
     "output_type": "display_data"
    }
   ],
   "source": [
    "big\"0.123456789012345678901234567890\"-BigFloat(0.123456789012345678901234567890)"
   ]
  },
  {
   "cell_type": "markdown",
   "metadata": {},
   "source": [
    "### Comments \n",
    "Macros are rarely necessary. Typically things are better done with a regular old function. And functions are much easier to write. \n",
    "\n",
    "Nonetheless, understanding them helps us understand how code is processes, and also when a macro might be handy. \n",
    "\n",
    "The main uses of macros I have come across are \n",
    "1) code generation (loop unrolling, see Unrolled.jl)\n",
    "2) domain specific language/simplifying syntax (see JuMP.jl, GLM.jl, SparseArrays.jl)\n",
    "3) access to the code and value at the same time (i.e. `@show` -- probably my favourite macro, great for debugging)\n",
    "\n",
    "but typically macros are not *essential* for these. "
   ]
  },
  {
   "cell_type": "markdown",
   "metadata": {},
   "source": [
    "# How to write a macro \n",
    "(https://jkrumbiegel.com/pages/2021-06-07-macros-for-beginners/)\n",
    "\n",
    "A macro is a lot like a function `f(expr1) -> expr2`, and `expr2` is pasted into the code where the macro is called. However, there are two main conceptual differences. \n",
    "\n",
    "The first big conceptual difference to note when writing a macro is that it is executed before the code is run, so it does not have access to any run-time values. \n",
    "\n",
    "A covenient tool for determining what infomation you have at parse time is `Meta.@dump x` (equivalent to `dump(:(x))`)"
   ]
  },
  {
   "cell_type": "code",
   "execution_count": 27,
   "metadata": {},
   "outputs": [
    {
     "name": "stdout",
     "output_type": "stream",
     "text": [
      "Symbol x\n"
     ]
    }
   ],
   "source": [
    "Meta.@dump x"
   ]
  },
  {
   "cell_type": "markdown",
   "metadata": {},
   "source": [
    "So all the macro knows, is that `x` is a `Symbol`. At this point, the macro knows no information about the value of `x`. \n",
    "\n",
    "Let's make a simple macro which will help us see what the macro knows"
   ]
  },
  {
   "cell_type": "code",
   "execution_count": 28,
   "metadata": {},
   "outputs": [
    {
     "data": {
      "text/plain": [
       "@show_the_insides (macro with 1 method)"
      ]
     },
     "metadata": {},
     "output_type": "display_data"
    }
   ],
   "source": [
    "macro show_the_insides(x)\n",
    "    @show x \n",
    "    @show typeof(x)\n",
    "end "
   ]
  },
  {
   "cell_type": "code",
   "execution_count": 29,
   "metadata": {},
   "outputs": [
    {
     "name": "stdout",
     "output_type": "stream",
     "text": [
      "x = :x\n",
      "typeof(x) = Symbol\n"
     ]
    }
   ],
   "source": [
    "x = 1 \n",
    "@show_the_insides x;"
   ]
  },
  {
   "cell_type": "code",
   "execution_count": 30,
   "metadata": {},
   "outputs": [
    {
     "name": "stdout",
     "output_type": "stream",
     "text": [
      "x = 1\n",
      "typeof(x) = Int64\n"
     ]
    }
   ],
   "source": [
    "@show_the_insides 1;"
   ]
  },
  {
   "cell_type": "code",
   "execution_count": 54,
   "metadata": {},
   "outputs": [
    {
     "name": "stdout",
     "output_type": "stream",
     "text": [
      "x = :(1 + 2)\n",
      "typeof(x) = Expr\n"
     ]
    }
   ],
   "source": [
    "@show_the_insides 1+2;"
   ]
  },
  {
   "cell_type": "markdown",
   "metadata": {},
   "source": [
    "Compare this to the run-time information "
   ]
  },
  {
   "cell_type": "code",
   "execution_count": 32,
   "metadata": {},
   "outputs": [
    {
     "name": "stdout",
     "output_type": "stream",
     "text": [
      "Int64 1\n"
     ]
    }
   ],
   "source": [
    "dump(x)"
   ]
  },
  {
   "cell_type": "code",
   "execution_count": 33,
   "metadata": {},
   "outputs": [
    {
     "name": "stdout",
     "output_type": "stream",
     "text": [
      "Int64 3\n"
     ]
    }
   ],
   "source": [
    "dump(1+2)"
   ]
  },
  {
   "cell_type": "markdown",
   "metadata": {},
   "source": [
    "In contrast, the run-time knows nothing about the variable name or expression, but does know its value. \n",
    "\n",
    "The value of variables passed to macros can be accessed at run-time by interpolating the value into the returned expression. \n"
   ]
  },
  {
   "cell_type": "code",
   "execution_count": 34,
   "metadata": {},
   "outputs": [
    {
     "name": "stdout",
     "output_type": "stream",
     "text": [
      "x = :x\n",
      "typeof(x) = Symbol\n",
      "x = 1\n"
     ]
    }
   ],
   "source": [
    "macro show_the_insides_and_value_when_evaled(x)\n",
    "    @show x \n",
    "    @show typeof(x)\n",
    "    return :(@show $x)\n",
    "end \n",
    "\n",
    "@show_the_insides_and_value_when_evaled(x);"
   ]
  },
  {
   "cell_type": "markdown",
   "metadata": {},
   "source": [
    "The second big conceptual difference is to do with *hygiene*. \n",
    "\n",
    "Recall that a macro takes an expression,manipulates it, and pastes the resulting expression where the macro was placed (when we run a macro in the REPL the resulting expression is immediately evaluated, so we don't see it.)\n",
    "\n",
    "Now, imagine the returned expression from the macro contains a variable name which the user has defined, but was not passed to the macro. The macro could end up having side effects. "
   ]
  },
  {
   "cell_type": "markdown",
   "metadata": {},
   "source": [
    "For example, in an unhygienic world, we would have something like this.\n",
    "\n",
    "```julia \n",
    "macro a_macro(x)\n",
    "    return quote \n",
    "        important_user_information = nothing \n",
    "       ($x)^2\n",
    "    end\n",
    "end    \n",
    "```\n",
    "\n",
    "Now, suppose `a_macro` is used in the following context\n",
    "```julia \n",
    "important_user_information = simulation_which_takes_hours(seed=1)\n",
    "y = 2\n",
    "@a_macro(y)\n",
    "```\n",
    "\n",
    "Conceptually, the resulting code would be \n",
    "```julia \n",
    "important_user_information = simulation_which_takes_hours(seed=1)\n",
    "y = 2\n",
    "important_user_information = nothing \n",
    "y^2\n",
    "```\n",
    "\n",
    "Oh no!\n",
    "\n",
    "Thankfully, this is not what actually happens. Instead, we have hygiene rules which make it hard (not impossible) to do things like this. \n",
    "\n",
    "So, let's start with a simple example. The following macro prints out a value and variable name (much like `@show`)"
   ]
  },
  {
   "cell_type": "code",
   "execution_count": 35,
   "metadata": {},
   "outputs": [
    {
     "data": {
      "text/plain": [
       "@show_value (macro with 1 method)"
      ]
     },
     "metadata": {},
     "output_type": "display_data"
    }
   ],
   "source": [
    "macro show_value(currency)\n",
    "    @show currency\n",
    "    str = string(currency)\n",
    "    return quote \n",
    "        println(\"you have \",$currency, \" \",$str)\n",
    "    end\n",
    "end"
   ]
  },
  {
   "cell_type": "code",
   "execution_count": 36,
   "metadata": {},
   "outputs": [
    {
     "name": "stdout",
     "output_type": "stream",
     "text": [
      "currency = :dollars\n",
      "you have 20 dollars\n"
     ]
    }
   ],
   "source": [
    "dollars = 20\n",
    "@show_value(dollars)"
   ]
  },
  {
   "cell_type": "markdown",
   "metadata": {},
   "source": [
    "The syntax is much like a function. \n",
    "\n",
    "Things to note:\n",
    "1) the macro returns a `Expr`ession\n",
    "2) the macro has access to the variable name (unlike a function)\n",
    "\n",
    "I used `@show` within the macro to remind us that the macro only has access to the variable name (as a symbol), in this case `currency = :dollars`.\n",
    "\n",
    "Before the returned expression, we evaluated `str = string(currency)`. \n",
    "\n",
    "When we evaluate the macro, currency takes the value `:dollars` so `str = string(:dollars)` which evaluates to `\"dollars\"`.\n",
    "\n",
    "In the returned expression the `$currency` refers to the value at run-time; `$str` interpolates the string `\"dollars\"` in its place. \n",
    "\n",
    "One of the best ways to work out what is actually going on within your macro is to use the `@macroexpand` macro, which displays the returned expression \n"
   ]
  },
  {
   "cell_type": "code",
   "execution_count": 37,
   "metadata": {},
   "outputs": [
    {
     "name": "stdout",
     "output_type": "stream",
     "text": [
      "currency = :dollars\n"
     ]
    },
    {
     "data": {
      "text/plain": [
       "quote\n",
       "    #= /Users/anguslewis/Documents/Julia_Meta_Talk/macros.ipynb:5 =#\n",
       "    Main.println(\"you have \", Main.dollars, \" \", \"dollars\")\n",
       "end"
      ]
     },
     "metadata": {},
     "output_type": "display_data"
    }
   ],
   "source": [
    "@macroexpand @show_value(dollars)"
   ]
  },
  {
   "cell_type": "markdown",
   "metadata": {},
   "source": [
    "So, now we are hopefully starting to understand how macros behave. Let's start to look at hygiene. \n",
    "\n",
    "First, what does a macro do when the returned expression introduces new variables. "
   ]
  },
  {
   "cell_type": "code",
   "execution_count": 38,
   "metadata": {},
   "outputs": [
    {
     "data": {
      "text/plain": [
       "@show_relative_value (macro with 1 method)"
      ]
     },
     "metadata": {},
     "output_type": "display_data"
    }
   ],
   "source": [
    "macro show_relative_value(currency)\n",
    "    # @show currency\n",
    "    str = string(currency)\n",
    "    return quote \n",
    "        half = $currency/2\n",
    "        double = $currency*2\n",
    "        println(\"you have \",$currency, \" \",$str)\n",
    "        println(\"which is more than \", half, \" \", $str)\n",
    "        println(\"but less than \", double, \" \", $str)\n",
    "    end\n",
    "end"
   ]
  },
  {
   "cell_type": "markdown",
   "metadata": {},
   "source": [
    "Recall that the macro pastes the returned expression in place where it is evaluated. \n",
    "\n",
    "Evaluating this macro gives"
   ]
  },
  {
   "cell_type": "code",
   "execution_count": 39,
   "metadata": {},
   "outputs": [
    {
     "name": "stdout",
     "output_type": "stream",
     "text": [
      "you have 20 dollars\n",
      "which is more than 10.0 dollars\n",
      "but less than 40 dollars\n"
     ]
    }
   ],
   "source": [
    "@show_relative_value(dollars)"
   ]
  },
  {
   "cell_type": "markdown",
   "metadata": {},
   "source": [
    "The returned expression which is pasted in the macros place is"
   ]
  },
  {
   "cell_type": "code",
   "execution_count": 40,
   "metadata": {},
   "outputs": [
    {
     "data": {
      "text/plain": [
       "quote\n",
       "    #= /Users/anguslewis/Documents/Julia_Meta_Talk/macros.ipynb:5 =#\n",
       "    var\"#20#half\" = Main.dollars / 2\n",
       "    #= /Users/anguslewis/Documents/Julia_Meta_Talk/macros.ipynb:6 =#\n",
       "    var\"#21#double\" = Main.dollars * 2\n",
       "    #= /Users/anguslewis/Documents/Julia_Meta_Talk/macros.ipynb:7 =#\n",
       "    Main.println(\"you have \", Main.dollars, \" \", \"dollars\")\n",
       "    #= /Users/anguslewis/Documents/Julia_Meta_Talk/macros.ipynb:8 =#\n",
       "    Main.println(\"which is more than \", var\"#20#half\", \" \", \"dollars\")\n",
       "    #= /Users/anguslewis/Documents/Julia_Meta_Talk/macros.ipynb:9 =#\n",
       "    Main.println(\"but less than \", var\"#21#double\", \" \", \"dollars\")\n",
       "end"
      ]
     },
     "metadata": {},
     "output_type": "display_data"
    }
   ],
   "source": [
    "@macroexpand @show_relative_value(dollars)"
   ]
  },
  {
   "cell_type": "markdown",
   "metadata": {},
   "source": [
    "Notice that the variables the macro introduces have weird names. Julia has automaticall generated unique names which (almost surely) won't clash with any others. It does this via `gensym()`."
   ]
  },
  {
   "cell_type": "markdown",
   "metadata": {},
   "source": [
    "The variable `Main.dollars` also appears in the returned expression, since we interpolated its value in. \n",
    "\n",
    "By default, macros always look for interpolated values within their current module (in this case `Main`).\n",
    "\n",
    "To demonstrate, let's put out macro in a module "
   ]
  },
  {
   "cell_type": "code",
   "execution_count": 41,
   "metadata": {},
   "outputs": [],
   "source": [
    "module M\n",
    "    export @show_value_within_M\n",
    "    macro show_value_within_M(currency)\n",
    "        str = string(currency)\n",
    "        return quote \n",
    "            println(\"you have \",$currency, \" \",$str)\n",
    "        end\n",
    "    end\n",
    "end\n",
    "using .M "
   ]
  },
  {
   "cell_type": "code",
   "execution_count": 42,
   "metadata": {},
   "outputs": [],
   "source": [
    "#@show_value_within_M(dollars)\n",
    "# throws error "
   ]
  },
  {
   "cell_type": "markdown",
   "metadata": {},
   "source": [
    "```julia \n",
    "julia> @show_value_within_M(dollars)\n",
    "ERROR: UndefVarError: dollars not defined\n",
    "Stacktrace:\n",
    " [1] top-level scope\n",
    "   @ REPL[24]:6\n",
    "```"
   ]
  },
  {
   "cell_type": "code",
   "execution_count": 43,
   "metadata": {},
   "outputs": [
    {
     "data": {
      "text/plain": [
       "quote\n",
       "    #= /Users/anguslewis/Documents/Julia_Meta_Talk/macros.ipynb:6 =#\n",
       "    Main.M.println(\"you have \", Main.M.dollars, \" \", \"dollars\")\n",
       "end"
      ]
     },
     "metadata": {},
     "output_type": "display_data"
    }
   ],
   "source": [
    "@macroexpand @show_value_within_M(dollars)"
   ]
  },
  {
   "cell_type": "markdown",
   "metadata": {},
   "source": [
    "By default, julia has looked for the `dollars` variable within the module. But we want to acccess the variable within the current context (`Main`).\n",
    "\n",
    "We do this by escaping "
   ]
  },
  {
   "cell_type": "code",
   "execution_count": 44,
   "metadata": {},
   "outputs": [],
   "source": [
    "module M2\n",
    "    export @show_value_within_M2\n",
    "    macro show_value_within_M2(currency)\n",
    "        str = string(currency)\n",
    "        return quote \n",
    "            println(\"you have \",$(esc(currency)), \" \",$str)\n",
    "        end\n",
    "    end\n",
    "end\n",
    "using .M2"
   ]
  },
  {
   "cell_type": "code",
   "execution_count": 45,
   "metadata": {},
   "outputs": [
    {
     "name": "stdout",
     "output_type": "stream",
     "text": [
      "you have 20 dollars\n"
     ]
    }
   ],
   "source": [
    "@show_value_within_M2(dollars)"
   ]
  },
  {
   "cell_type": "code",
   "execution_count": 46,
   "metadata": {},
   "outputs": [
    {
     "data": {
      "text/plain": [
       "quote\n",
       "    #= /Users/anguslewis/Documents/Julia_Meta_Talk/macros.ipynb:6 =#\n",
       "    Main.M2.println(\"you have \", dollars, \" \", \"dollars\")\n",
       "end"
      ]
     },
     "metadata": {},
     "output_type": "display_data"
    }
   ],
   "source": [
    "@macroexpand @show_value_within_M2(dollars)"
   ]
  },
  {
   "cell_type": "markdown",
   "metadata": {},
   "source": [
    "Now the macro just calls `dollars` which is within whatever context the macro is evaluated. \n",
    "\n",
    "You should only escape variables which the macros knows about (those which have been explicitly passed to the macro). Otherwise you might overwrite the users variables. \n",
    "\n",
    "An example of bad escaping. "
   ]
  },
  {
   "cell_type": "code",
   "execution_count": 47,
   "metadata": {},
   "outputs": [
    {
     "data": {
      "text/plain": [
       "@show_relative_value (macro with 1 method)"
      ]
     },
     "metadata": {},
     "output_type": "display_data"
    }
   ],
   "source": [
    "half = 1/2\n",
    "\n",
    "macro show_relative_value(currency)\n",
    "    # @show currency\n",
    "    str = string(currency)\n",
    "    expr = quote \n",
    "        half = $currency/2\n",
    "        double = $currency*2\n",
    "        println(\"you have \",$currency, \" \",$str)\n",
    "        println(\"which is more than \", half, \" \", $str)\n",
    "        println(\"but less than \", double, \" \", $str)\n",
    "    end\n",
    "    return esc(expr)\n",
    "end"
   ]
  },
  {
   "cell_type": "code",
   "execution_count": 48,
   "metadata": {},
   "outputs": [
    {
     "name": "stdout",
     "output_type": "stream",
     "text": [
      "you have 20 dollars\n",
      "which is more than 10.0 dollars\n",
      "but less than 40 dollars\n"
     ]
    }
   ],
   "source": [
    "@show_relative_value(dollars)"
   ]
  },
  {
   "cell_type": "code",
   "execution_count": 49,
   "metadata": {},
   "outputs": [
    {
     "data": {
      "text/plain": [
       "quote\n",
       "    #= /Users/anguslewis/Documents/Julia_Meta_Talk/macros.ipynb:7 =#\n",
       "    half = dollars / 2\n",
       "    #= /Users/anguslewis/Documents/Julia_Meta_Talk/macros.ipynb:8 =#\n",
       "    double = dollars * 2\n",
       "    #= /Users/anguslewis/Documents/Julia_Meta_Talk/macros.ipynb:9 =#\n",
       "    println(\"you have \", dollars, \" \", \"dollars\")\n",
       "    #= /Users/anguslewis/Documents/Julia_Meta_Talk/macros.ipynb:10 =#\n",
       "    println(\"which is more than \", half, \" \", \"dollars\")\n",
       "    #= /Users/anguslewis/Documents/Julia_Meta_Talk/macros.ipynb:11 =#\n",
       "    println(\"but less than \", double, \" \", \"dollars\")\n",
       "end"
      ]
     },
     "metadata": {},
     "output_type": "display_data"
    }
   ],
   "source": [
    "@macroexpand @show_relative_value(dollars)"
   ]
  },
  {
   "cell_type": "code",
   "execution_count": 50,
   "metadata": {},
   "outputs": [
    {
     "data": {
      "text/plain": [
       "10.0"
      ]
     },
     "metadata": {},
     "output_type": "display_data"
    }
   ],
   "source": [
    "half"
   ]
  },
  {
   "cell_type": "markdown",
   "metadata": {},
   "source": [
    "## Multiple dispatch\n",
    "\n",
    "Macros can use multiple dispatch, but remember, they only have compile time information. \n",
    "\n",
    "For example "
   ]
  },
  {
   "cell_type": "code",
   "execution_count": 51,
   "metadata": {},
   "outputs": [
    {
     "data": {
      "text/plain": [
       "@foo (macro with 2 methods)"
      ]
     },
     "metadata": {},
     "output_type": "display_data"
    }
   ],
   "source": [
    "macro foo(x::Int)\n",
    "    return 2*x\n",
    "end \n",
    "macro foo(x::Symbol)\n",
    "    return :($(string(x)))\n",
    "end"
   ]
  },
  {
   "cell_type": "code",
   "execution_count": 52,
   "metadata": {},
   "outputs": [
    {
     "data": {
      "text/plain": [
       "4"
      ]
     },
     "metadata": {},
     "output_type": "display_data"
    }
   ],
   "source": [
    "@foo(2) # dispatches to foo(::Int)"
   ]
  },
  {
   "cell_type": "code",
   "execution_count": 53,
   "metadata": {},
   "outputs": [
    {
     "data": {
      "text/plain": [
       "\"x\""
      ]
     },
     "metadata": {},
     "output_type": "display_data"
    }
   ],
   "source": [
    "x=2\n",
    "@foo(x) # displates to foo(::Symbol)"
   ]
  },
  {
   "cell_type": "markdown",
   "metadata": {},
   "source": [
    "See also: \n",
    "\n",
    "this is great https://jkrumbiegel.com/pages/2021-06-07-macros-for-beginners/\n",
    "\n",
    "this is pretty cool https://github.com/FugroRoames/RoamesNotebooks/blob/master/A%20practical%20introduction%20to%20metaprogramming%20in%20Julia.ipynb \n",
    "\n",
    "https://stackoverflow.com/questions/58137512/why-use-macros-in-julia\n",
    "\n",
    "https://github.com/cstjean/Unrolled.jl\n",
    "\n",
    "https://nbviewer.org/github/crstnbr/JuliaWorkshop18/blob/master/2%20Tips%20and%20tricks/optional_field_inheritance.ipynb\n",
    "\n",
    "https://docs.julialang.org/en/v1/manual/metaprogramming/#man-macros \n",
    "\n",
    "The last comment on this post https://stackoverflow.com/questions/39627029/julia-how-does-inline-work-when-to-use-function-vs-macro/39627556"
   ]
  },
  {
   "cell_type": "markdown",
   "metadata": {},
   "source": []
  },
  {
   "cell_type": "markdown",
   "metadata": {},
   "source": []
  }
 ],
 "metadata": {
  "kernelspec": {
   "display_name": "Julia 1.6.3",
   "language": "julia",
   "name": "julia-1.6"
  },
  "language_info": {
   "file_extension": ".jl",
   "mimetype": "application/julia",
   "name": "julia",
   "version": "1.6.3"
  }
 },
 "nbformat": 4,
 "nbformat_minor": 4
}
