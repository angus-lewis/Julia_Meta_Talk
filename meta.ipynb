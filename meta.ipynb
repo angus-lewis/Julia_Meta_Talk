{
 "cells": [
  {
   "cell_type": "markdown",
   "metadata": {},
   "source": [
    "# Representing syntax\n",
    "Julia's metaprgoramming features are based on Lisp (apparently) -- a language and sytax born from mathematical representations of a language. \n",
    "\n",
    "Code can be represented as a tree structure where the nodes are literals (values), other expressions or symbols (variables?, more on this later).\n",
    "\n",
    "       + \n",
    "      /|\\\n",
    "     / | \\\n",
    "    1  2  *\n",
    "         / \\\n",
    "        /   \\\n",
    "       3     4\n",
    "\n",
    "(*, 3, 4)\n",
    "\n",
    "(+, 1, 2, (*, 3, 4))    \n",
    "\n",
    "This is exactly what Julia does. \n",
    "\n",
    "--- \n",
    "\n",
    "Source code in Julia is a text file -- a .jl file is just a text file with a .jl extension.\n",
    "As the first step in running Julia code, it is parsed from a string into a datastructure called an Expression (`Expr()`)\n"
   ]
  },
  {
   "cell_type": "code",
   "execution_count": 2,
   "metadata": {},
   "outputs": [
    {
     "data": {
      "text/plain": [
       "\"1+2\""
      ]
     },
     "metadata": {},
     "output_type": "display_data"
    }
   ],
   "source": [
    "source_code = \"1+2\""
   ]
  },
  {
   "cell_type": "code",
   "execution_count": 4,
   "metadata": {},
   "outputs": [
    {
     "data": {
      "text/plain": [
       ":(1 + 2)"
      ]
     },
     "metadata": {},
     "output_type": "display_data"
    }
   ],
   "source": [
    "expr = Meta.parse(source_code)"
   ]
  },
  {
   "cell_type": "code",
   "execution_count": 5,
   "metadata": {},
   "outputs": [
    {
     "name": "stdout",
     "output_type": "stream",
     "text": [
      "(:"
     ]
    },
    {
     "name": "stdout",
     "output_type": "stream",
     "text": [
      "call, :+, 1, 2)"
     ]
    }
   ],
   "source": [
    "Meta.show_sexpr(expr)"
   ]
  },
  {
   "cell_type": "markdown",
   "metadata": {},
   "source": [
    "This is (apparently) the same as what LISP does. In contrast, C, represents code as a string which can be manipulated and then parsed, rather than as a data structure. "
   ]
  },
  {
   "cell_type": "markdown",
   "metadata": {},
   "source": [
    "--- \n",
    "\n",
    "# `Expr`essions\n",
    "\n",
    "```julia\n",
    "mutable struct Expr\n",
    "    head::Symbol\n",
    "    args::Array{Any,1}\n",
    "end\n",
    "```\n",
    "(The source for `Expr` is implemented directly in C.)\n",
    "\n",
    "(why mutable??)"
   ]
  },
  {
   "cell_type": "code",
   "execution_count": 6,
   "metadata": {},
   "outputs": [
    {
     "data": {
      "text/plain": [
       "Expr"
      ]
     },
     "metadata": {},
     "output_type": "display_data"
    }
   ],
   "source": [
    "typeof(expr)"
   ]
  },
  {
   "cell_type": "code",
   "execution_count": 7,
   "metadata": {},
   "outputs": [
    {
     "data": {
      "text/plain": [
       "(:head, :args)"
      ]
     },
     "metadata": {},
     "output_type": "display_data"
    }
   ],
   "source": [
    "fieldnames(Expr)"
   ]
  },
  {
   "cell_type": "code",
   "execution_count": 8,
   "metadata": {},
   "outputs": [
    {
     "name": "stdout",
     "output_type": "stream",
     "text": [
      "Expr\n",
      "  head: Symbol call\n",
      "  args: Array{Any}("
     ]
    },
    {
     "name": "stdout",
     "output_type": "stream",
     "text": [
      "(3,))\n",
      "    1: Symbol +\n",
      "    2: Int64 1\n",
      "    3: Int64 2\n"
     ]
    }
   ],
   "source": [
    "dump(expr)"
   ]
  },
  {
   "cell_type": "markdown",
   "metadata": {},
   "source": [
    "## `expr.head`\n",
    "The `expr.head` is a `Symbol` -- An *interned* string which specifies the *type* of expression.\n",
    "\n",
    "---\n",
    "Aside \n",
    "```\n",
    "mutable struct Symbol\n",
    "#    opaque\n",
    "end\n",
    "```\n",
    "The source code for `Symbol` is actually directly in C. The comment `# opaque` refers to the fact that the innards of `Symbol` are hidden from the user. \n",
    "*The type of object used to represent identifiers in parsed julia code (ASTs). Also often used as a name or label to identify an entity (e.g. as a dictionary key)*\n",
    "\n",
    "---\n",
    "\n",
    "Examples. \n",
    "\n",
    "    - `:call` - call a callable object (function)\n",
    "\n",
    "    - `:curly` - wrap args in curly braces\n",
    "\n",
    "    - `:quote` - quote julia code\n",
    "\n",
    "    - `:block` - begin/end\n",
    "\n",
    "    - `:tuple` - make a tuple\n",
    "\n",
    "    - `:vect` - construct a vector from args\n",
    "\n",
    "    - `:row` - construct a row from args\n",
    "\n",
    "    - `:vcat`, `:hcat` - concatenation\n",
    "\n",
    "    - `:macrocall` - same as call but for macros\n",
    "\n",
    "    - `:ref` - reference an array \n",
    "\n",
    "    - `:...` - splat operator \n",
    "\n",
    "    - `:if`, `:for`, `:while`\n",
    "    \n",
    "    - `:using`, `:import`"
   ]
  },
  {
   "cell_type": "markdown",
   "metadata": {},
   "source": [
    "## expr.args\n",
    "\n",
    "Arguments -- can be more expressions, literals (i.e. the value 1.0), symbols. "
   ]
  },
  {
   "cell_type": "code",
   "execution_count": 32,
   "metadata": {},
   "outputs": [
    {
     "data": {
      "text/plain": [
       ":(x + 2)"
      ]
     },
     "metadata": {},
     "output_type": "display_data"
    }
   ],
   "source": [
    "y = 2\n",
    "expr = Expr(:call, :+, :x, y)"
   ]
  },
  {
   "cell_type": "code",
   "execution_count": 34,
   "metadata": {},
   "outputs": [
    {
     "data": {
      "text/plain": [
       ":(x + y)"
      ]
     },
     "metadata": {},
     "output_type": "display_data"
    }
   ],
   "source": [
    "expr2 = Expr(:call, :+, :x, :y)"
   ]
  },
  {
   "cell_type": "code",
   "execution_count": 35,
   "metadata": {},
   "outputs": [
    {
     "data": {
      "text/plain": [
       ":(1.0 + 2.0 + 3.0 + 1.0 + x)"
      ]
     },
     "metadata": {},
     "output_type": "display_data"
    }
   ],
   "source": [
    "expr3 = Expr(:call, :+, 1.0, 2.0, 3.0, x, :x)"
   ]
  },
  {
   "cell_type": "code",
   "execution_count": 28,
   "metadata": {},
   "outputs": [
    {
     "data": {
      "text/plain": [
       ":(Array{Float64, 1}(undef, 2))"
      ]
     },
     "metadata": {},
     "output_type": "display_data"
    }
   ],
   "source": [
    "array_sexpr = Expr(:call, Expr(:curly, :Array, :Float64,1), :undef, 2)"
   ]
  },
  {
   "cell_type": "code",
   "execution_count": 29,
   "metadata": {},
   "outputs": [
    {
     "data": {
      "text/plain": [
       ":(Array{Float64, 1}(undef, 2))"
      ]
     },
     "metadata": {},
     "output_type": "display_data"
    }
   ],
   "source": [
    "array_source = Meta.parse(\"Array{Float64,1}(undef,2)\")"
   ]
  },
  {
   "cell_type": "code",
   "execution_count": 30,
   "metadata": {},
   "outputs": [
    {
     "data": {
      "text/plain": [
       "true"
      ]
     },
     "metadata": {},
     "output_type": "display_data"
    }
   ],
   "source": [
    "array_source==array_sexpr"
   ]
  },
  {
   "cell_type": "markdown",
   "metadata": {},
   "source": [
    "# Quoting\n",
    "S-expressions/the `Expr` constructor are unwieldy"
   ]
  },
  {
   "cell_type": "code",
   "execution_count": 25,
   "metadata": {},
   "outputs": [
    {
     "data": {
      "text/plain": [
       ":(1.0 + x)"
      ]
     },
     "metadata": {},
     "output_type": "display_data"
    }
   ],
   "source": [
    "expr = Expr(:call, :+, 1.0, :x)"
   ]
  },
  {
   "cell_type": "markdown",
   "metadata": {},
   "source": [
    "Notice symbol `:x` vs just `x` below, both are NOT a value -- `x` is not even defined yet."
   ]
  },
  {
   "cell_type": "code",
   "execution_count": 26,
   "metadata": {},
   "outputs": [
    {
     "data": {
      "text/plain": [
       ":(1.0 + x)"
      ]
     },
     "metadata": {},
     "output_type": "display_data"
    }
   ],
   "source": [
    "quoted_expr = :(1.0+x)"
   ]
  },
  {
   "cell_type": "code",
   "execution_count": 27,
   "metadata": {},
   "outputs": [
    {
     "data": {
      "text/plain": [
       "quote\n",
       "    #= /Users/anguslewis/Documents/Julia_Meta_Talk/meta.ipynb:2 =#\n",
       "    1.0 + x\n",
       "end"
      ]
     },
     "metadata": {},
     "output_type": "display_data"
    }
   ],
   "source": [
    "block_expr = quote \n",
    "    1.0+x\n",
    "end"
   ]
  },
  {
   "cell_type": "code",
   "execution_count": 28,
   "metadata": {},
   "outputs": [
    {
     "data": {
      "text/plain": [
       "true"
      ]
     },
     "metadata": {},
     "output_type": "display_data"
    }
   ],
   "source": [
    "quoted_expr==expr"
   ]
  },
  {
   "cell_type": "code",
   "execution_count": 29,
   "metadata": {},
   "outputs": [
    {
     "data": {
      "text/plain": [
       "false"
      ]
     },
     "metadata": {},
     "output_type": "display_data"
    }
   ],
   "source": [
    "quoted_expr==block_expr"
   ]
  },
  {
   "cell_type": "code",
   "execution_count": 30,
   "metadata": {},
   "outputs": [
    {
     "name": "stdout",
     "output_type": "stream",
     "text": [
      "Expr\n",
      "  head: Symbol call\n",
      "  args: Array{Any}("
     ]
    },
    {
     "name": "stdout",
     "output_type": "stream",
     "text": [
      "(3"
     ]
    },
    {
     "name": "stdout",
     "output_type": "stream",
     "text": [
      ",))\n",
      "    1: Symbol +\n",
      "    2: Float64 1.0\n",
      "    3: Symbol x\n"
     ]
    }
   ],
   "source": [
    "dump(expr)"
   ]
  },
  {
   "cell_type": "code",
   "execution_count": 31,
   "metadata": {},
   "outputs": [
    {
     "name": "stdout",
     "output_type": "stream",
     "text": [
      "Expr\n",
      "  head: Symbol call\n",
      "  args: Array{Any}((3,))\n",
      "    1: Symbol +\n",
      "    2: Float64 1.0\n",
      "    3: Symbol x\n"
     ]
    }
   ],
   "source": [
    "dump(quoted_expr)"
   ]
  },
  {
   "cell_type": "code",
   "execution_count": 32,
   "metadata": {},
   "outputs": [
    {
     "name": "stdout",
     "output_type": "stream",
     "text": [
      "Expr\n",
      "  head: Symbol block\n",
      "  args: Array{Any}((2,))\n",
      "    1: LineNumberNode\n",
      "      line: Int64 "
     ]
    },
    {
     "name": "stdout",
     "output_type": "stream",
     "text": [
      "2\n",
      "      file: Symbol /Users/anguslewis/Documents/Julia_Meta_Talk/meta.ipynb\n",
      "    2: Expr\n",
      "      head: Symbol call\n",
      "      args: Array{Any}((3,))\n",
      "        1: Symbol +\n",
      "        2: Float64 1.0\n",
      "        3: Symbol x\n"
     ]
    }
   ],
   "source": [
    "dump(block_expr)\n"
   ]
  },
  {
   "cell_type": "code",
   "execution_count": 33,
   "metadata": {},
   "outputs": [
    {
     "data": {
      "text/plain": [
       "3-element Vector{Any}:\n",
       "  :+\n",
       " 1.0\n",
       "  :x"
      ]
     },
     "metadata": {},
     "output_type": "display_data"
    }
   ],
   "source": [
    "expr.args"
   ]
  },
  {
   "cell_type": "code",
   "execution_count": 34,
   "metadata": {},
   "outputs": [
    {
     "data": {
      "text/plain": [
       "2-element Vector{Any}:\n",
       " :(#= /Users/anguslewis/Documents/Julia_Meta_Talk/meta.ipynb:2 =#)\n",
       " :(1.0 + x)"
      ]
     },
     "metadata": {},
     "output_type": "display_data"
    }
   ],
   "source": [
    "block_expr.args"
   ]
  },
  {
   "cell_type": "markdown",
   "metadata": {},
   "source": [
    "`Expr` can be built from pretty much anything but will throw an error at run time if it represents undefined syntax. But there is no forewarning."
   ]
  },
  {
   "cell_type": "code",
   "execution_count": 42,
   "metadata": {},
   "outputs": [
    {
     "data": {
      "text/plain": [
       ":((1)(Any[]))"
      ]
     },
     "metadata": {},
     "output_type": "display_data"
    }
   ],
   "source": [
    "expr2 = Expr(:call, 1, [],)\n",
    "# eval(expr2) #nonesense "
   ]
  },
  {
   "cell_type": "code",
   "execution_count": 44,
   "metadata": {},
   "outputs": [
    {
     "data": {
      "text/plain": [
       ":([udef_var; for])"
      ]
     },
     "metadata": {},
     "output_type": "display_data"
    }
   ],
   "source": [
    "Expr(:vcat, :udef_var, :for)"
   ]
  },
  {
   "cell_type": "markdown",
   "metadata": {},
   "source": [
    "---\n",
    "\n",
    "# Interpolation\n",
    "\n",
    "Often we want to include a value in an expression via a variable. i.e. "
   ]
  },
  {
   "cell_type": "code",
   "execution_count": 47,
   "metadata": {},
   "outputs": [
    {
     "data": {
      "text/plain": [
       "4.872889457363563e-13"
      ]
     },
     "metadata": {},
     "output_type": "display_data"
    }
   ],
   "source": [
    "x = 0.0000000000004872889457363563107187 # something annoying to type "
   ]
  },
  {
   "cell_type": "code",
   "execution_count": 48,
   "metadata": {},
   "outputs": [
    {
     "data": {
      "text/plain": [
       ":(4.872889457363563e-13 * 1.0e12)"
      ]
     },
     "metadata": {},
     "output_type": "display_data"
    }
   ],
   "source": [
    "Expr(:call, :*, x, 1e12)\n",
    "# as opposed to \n",
    "# Expr(:call, :*, :x, 1_000_000_000_000)"
   ]
  },
  {
   "cell_type": "markdown",
   "metadata": {},
   "source": [
    "Straightforward with `Expr`, but less so for quoting;"
   ]
  },
  {
   "cell_type": "code",
   "execution_count": 113,
   "metadata": {},
   "outputs": [
    {
     "data": {
      "text/plain": [
       ":(x * 1000000000000)"
      ]
     },
     "metadata": {},
     "output_type": "display_data"
    }
   ],
   "source": [
    ":(x*1e12) # x here is a variable name"
   ]
  },
  {
   "cell_type": "code",
   "execution_count": 114,
   "metadata": {},
   "outputs": [
    {
     "data": {
      "text/plain": [
       ":(4.872889457363563e-13 * 1000000000000)"
      ]
     },
     "metadata": {},
     "output_type": "display_data"
    }
   ],
   "source": [
    ":($x*1e12) # x here is the value 0.0000000000004872889457363563107187"
   ]
  },
  {
   "cell_type": "markdown",
   "metadata": {},
   "source": [
    "Purposely reminiscent of string interpolation."
   ]
  },
  {
   "cell_type": "code",
   "execution_count": 49,
   "metadata": {},
   "outputs": [
    {
     "data": {
      "text/plain": [
       "quote\n",
       "    #= /Users/anguslewis/Documents/Julia_Meta_Talk/meta.ipynb:2 =#\n",
       "    y = 4.872889457363563e-13\n",
       "    #= /Users/anguslewis/Documents/Julia_Meta_Talk/meta.ipynb:3 =#\n",
       "    for n = 1:12\n",
       "        #= /Users/anguslewis/Documents/Julia_Meta_Talk/meta.ipynb:4 =#\n",
       "        global y = y * 10\n",
       "    end\n",
       "    #= /Users/anguslewis/Documents/Julia_Meta_Talk/meta.ipynb:6 =#\n",
       "    y\n",
       "end"
      ]
     },
     "metadata": {},
     "output_type": "display_data"
    }
   ],
   "source": [
    "expr = quote \n",
    "    y = $x\n",
    "    for n in 1:12\n",
    "        global y = y*10 \n",
    "    end\n",
    "    y\n",
    "end"
   ]
  },
  {
   "cell_type": "markdown",
   "metadata": {},
   "source": [
    "You can nest quote expressions and interpolate into nested expressions. I've never needed to. Interpolation is weird with nested quotes -- see the docs. "
   ]
  },
  {
   "cell_type": "markdown",
   "metadata": {},
   "source": [
    "`QuoteNode` is a quote without interpolation -- but no nice syntax for this yet."
   ]
  },
  {
   "cell_type": "markdown",
   "metadata": {},
   "source": [
    "---\n",
    "\n",
    "# Evaluating expressions and scoping \n",
    "\n",
    "Every module has an `eval` function to evaluate expressions\n",
    "\n",
    "``` \n",
    "    eval(expr)\n",
    "```\n",
    "*Evaluate an expression in the global scope of the containing module. Every Module (except those defined with baremodule) has its own 1-argument definition of eval, which evaluates expressions in that module.*"
   ]
  },
  {
   "cell_type": "code",
   "execution_count": 50,
   "metadata": {},
   "outputs": [
    {
     "data": {
      "text/plain": [
       "2.0"
      ]
     },
     "metadata": {},
     "output_type": "display_data"
    }
   ],
   "source": [
    "expr = :(1.0+1.0)\n",
    "eval(expr)"
   ]
  },
  {
   "cell_type": "markdown",
   "metadata": {},
   "source": [
    "With interpolation:"
   ]
  },
  {
   "cell_type": "code",
   "execution_count": 51,
   "metadata": {},
   "outputs": [
    {
     "data": {
      "text/plain": [
       ":(1.0 + 1.0)"
      ]
     },
     "metadata": {},
     "output_type": "display_data"
    }
   ],
   "source": [
    "z = 1.0\n",
    "expr = :($z+1.0)"
   ]
  },
  {
   "cell_type": "code",
   "execution_count": 54,
   "metadata": {},
   "outputs": [
    {
     "data": {
      "text/plain": [
       "2.0"
      ]
     },
     "metadata": {},
     "output_type": "display_data"
    }
   ],
   "source": [
    "eval(expr)"
   ]
  },
  {
   "cell_type": "code",
   "execution_count": 56,
   "metadata": {},
   "outputs": [
    {
     "data": {
      "text/plain": [
       ":(1.0 + 1.0)"
      ]
     },
     "metadata": {},
     "output_type": "display_data"
    }
   ],
   "source": [
    "z=10\n",
    "expr # no change to expr"
   ]
  },
  {
   "cell_type": "code",
   "execution_count": 57,
   "metadata": {},
   "outputs": [
    {
     "data": {
      "text/plain": [
       "2.0"
      ]
     },
     "metadata": {},
     "output_type": "display_data"
    }
   ],
   "source": [
    "eval(expr) # z has already been interpolated, so expr does not depend on z"
   ]
  },
  {
   "cell_type": "markdown",
   "metadata": {},
   "source": [
    "There is also a macro for interpolation"
   ]
  },
  {
   "cell_type": "code",
   "execution_count": 58,
   "metadata": {},
   "outputs": [
    {
     "data": {
      "text/plain": [
       "2.0"
      ]
     },
     "metadata": {},
     "output_type": "display_data"
    }
   ],
   "source": [
    "z = 1.0\n",
    "@eval $z+1 "
   ]
  },
  {
   "cell_type": "markdown",
   "metadata": {},
   "source": [
    "There is a difference between interpolation and the value of a variable at run-time"
   ]
  },
  {
   "cell_type": "code",
   "execution_count": 59,
   "metadata": {},
   "outputs": [
    {
     "data": {
      "text/plain": [
       ":(z + 1.0)"
      ]
     },
     "metadata": {},
     "output_type": "display_data"
    }
   ],
   "source": [
    "z = 1.0\n",
    "expr = :(z+1.0) # expr is a function of z"
   ]
  },
  {
   "cell_type": "code",
   "execution_count": 60,
   "metadata": {},
   "outputs": [
    {
     "data": {
      "text/plain": [
       ":(1.0 + 1.0)"
      ]
     },
     "metadata": {},
     "output_type": "display_data"
    }
   ],
   "source": [
    "expr_interp = :($z+1.0) # not a function of z"
   ]
  },
  {
   "cell_type": "code",
   "execution_count": 61,
   "metadata": {},
   "outputs": [
    {
     "data": {
      "text/plain": [
       "11.0"
      ]
     },
     "metadata": {},
     "output_type": "display_data"
    }
   ],
   "source": [
    "z = 10\n",
    "eval(expr) # expr is a function of z"
   ]
  },
  {
   "cell_type": "code",
   "execution_count": 62,
   "metadata": {},
   "outputs": [
    {
     "data": {
      "text/plain": [
       "2.0"
      ]
     },
     "metadata": {},
     "output_type": "display_data"
    }
   ],
   "source": [
    "eval(expr_interp)"
   ]
  },
  {
   "cell_type": "markdown",
   "metadata": {},
   "source": [
    "### ~~Scoping can be weird!~~\n"
   ]
  },
  {
   "cell_type": "code",
   "execution_count": 63,
   "metadata": {},
   "outputs": [
    {
     "data": {
      "text/plain": [
       "quote\n",
       "    #= /Users/anguslewis/Documents/Julia_Meta_Talk/meta.ipynb:2 =#\n",
       "    q = 10\n",
       "    #= /Users/anguslewis/Documents/Julia_Meta_Talk/meta.ipynb:3 =#\n",
       "    for n = 1:10\n",
       "        #= /Users/anguslewis/Documents/Julia_Meta_Talk/meta.ipynb:4 =#\n",
       "        q *= 10\n",
       "    end\n",
       "    #= /Users/anguslewis/Documents/Julia_Meta_Talk/meta.ipynb:6 =#\n",
       "    q\n",
       "end"
      ]
     },
     "metadata": {},
     "output_type": "display_data"
    }
   ],
   "source": [
    "expr = quote\n",
    "    q = $z\n",
    "    for n in 1:10 \n",
    "        q *= 10\n",
    "    end\n",
    "    q\n",
    "end"
   ]
  },
  {
   "cell_type": "code",
   "execution_count": 64,
   "metadata": {},
   "outputs": [
    {
     "ename": "UndefVarError",
     "evalue": "UndefVarError: q not defined",
     "output_type": "error",
     "traceback": [
      "\n",
      "Stacktrace:\n",
      "  [1] top-level scope\n",
      "    @ ~/Documents/Julia_Meta_Talk/meta.ipynb:4\n",
      "  [2] eval\n",
      "    @ ./boot.jl:360 [inlined]\n",
      "  [3] eval(x::Expr)\n",
      "    @ Base.MainInclude ./client.jl:446\n",
      "  [4] top-level scope\n",
      "    @ ~/Documents/Julia_Meta_Talk/meta.ipynb:1\n",
      "  [5] eval\n",
      "    @ ./boot.jl:360 [inlined]\n",
      "  [6] include_string(mapexpr::typeof(REPL.softscope), mod::Module, code::String, filename::String)\n",
      "    @ Base ./loading.jl:1116\n",
      "  [7] #invokelatest#2\n",
      "    @ ./essentials.jl:708 [inlined]\n",
      "  [8] invokelatest\n",
      "    @ ./essentials.jl:706 [inlined]\n",
      "  [9] (::VSCodeServer.var\"#98#99\"{VSCodeServer.NotebookRunCellArguments, String})()\n",
      "    @ VSCodeServer ~/.vscode/extensions/julialang.language-julia-1.4.3/scripts/packages/VSCodeServer/src/serve_notebook.jl:18\n",
      " [10] withpath(f::VSCodeServer.var\"#98#99\"{VSCodeServer.NotebookRunCellArguments, String}, path::String)\n",
      "    @ VSCodeServer ~/.vscode/extensions/julialang.language-julia-1.4.3/scripts/packages/VSCodeServer/src/repl.jl:185\n",
      " [11] notebook_runcell_request(conn::VSCodeServer.JSONRPC.JSONRPCEndpoint{Base.PipeEndpoint, Base.PipeEndpoint}, params::VSCodeServer.NotebookRunCellArguments)\n",
      "    @ VSCodeServer ~/.vscode/extensions/julialang.language-julia-1.4.3/scripts/packages/VSCodeServer/src/serve_notebook.jl:14\n",
      " [12] dispatch_msg(x::VSCodeServer.JSONRPC.JSONRPCEndpoint{Base.PipeEndpoint, Base.PipeEndpoint}, dispatcher::VSCodeServer.JSONRPC.MsgDispatcher, msg::Dict{String, Any})\n",
      "    @ VSCodeServer.JSONRPC ~/.vscode/extensions/julialang.language-julia-1.4.3/scripts/packages/JSONRPC/src/typed.jl:67\n",
      " [13] serve_notebook(pipename::String; crashreporting_pipename::String)\n",
      "    @ VSCodeServer ~/.vscode/extensions/julialang.language-julia-1.4.3/scripts/packages/VSCodeServer/src/serve_notebook.jl:94\n",
      " [14] top-level scope\n",
      "    @ ~/.vscode/extensions/julialang.language-julia-1.4.3/scripts/notebook/notebook.jl:10\n",
      " [15] include(mod::Module, _path::String)\n",
      "    @ Base ./Base.jl:386\n",
      " [16] exec_options(opts::Base.JLOptions)\n",
      "    @ Base ./client.jl:285\n",
      " [17] _start()\n",
      "    @ Base ./client.jl:485"
     ]
    }
   ],
   "source": [
    "eval(expr)\n",
    "\n",
    "# ┌ Warning: Assignment to `q` in soft scope is ambiguous because a global variable by the same name exists: `q` will be treated as a new local. Disambiguate by using `local q` to suppress this warning or `global q` to assign to the existing global variable.\n",
    "# └ @ REPL[83]:4\n",
    "# ERROR: UndefVarError: q not defined\n",
    "# Stacktrace:\n",
    "#  [1] top-level scope\n",
    "#    @ ./REPL[83]:4"
   ]
  },
  {
   "cell_type": "markdown",
   "metadata": {},
   "source": [
    "I thought this would work becuase the following does "
   ]
  },
  {
   "cell_type": "code",
   "execution_count": 65,
   "metadata": {},
   "outputs": [
    {
     "data": {
      "text/plain": [
       "100000000000"
      ]
     },
     "metadata": {},
     "output_type": "display_data"
    }
   ],
   "source": [
    "q = z\n",
    "for n in 1:10 \n",
    "    q *= 10\n",
    "end\n",
    "q"
   ]
  },
  {
   "cell_type": "markdown",
   "metadata": {},
   "source": [
    "~~The issue appears to be that the for loop creates a new scope and hence new variable `q`.~~\n",
    "\n",
    "This is a REPL weirness. The loop above throws the same error as the `expr` when run via the terminal. "
   ]
  },
  {
   "cell_type": "code",
   "execution_count": 66,
   "metadata": {},
   "outputs": [
    {
     "data": {
      "text/plain": [
       "quote\n",
       "    #= /Users/anguslewis/Documents/Julia_Meta_Talk/meta.ipynb:2 =#\n",
       "    q = 10\n",
       "    #= /Users/anguslewis/Documents/Julia_Meta_Talk/meta.ipynb:3 =#\n",
       "    for n = 1:10\n",
       "        #= /Users/anguslewis/Documents/Julia_Meta_Talk/meta.ipynb:4 =#\n",
       "        global q *= 10\n",
       "    end\n",
       "    #= /Users/anguslewis/Documents/Julia_Meta_Talk/meta.ipynb:6 =#\n",
       "    q\n",
       "end"
      ]
     },
     "metadata": {},
     "output_type": "display_data"
    }
   ],
   "source": [
    "expr = quote\n",
    "    q = $z\n",
    "    for n in 1:10 \n",
    "        global q *= 10\n",
    "    end\n",
    "    q\n",
    "end"
   ]
  },
  {
   "cell_type": "code",
   "execution_count": 67,
   "metadata": {},
   "outputs": [
    {
     "data": {
      "text/plain": [
       "100000000000"
      ]
     },
     "metadata": {},
     "output_type": "display_data"
    }
   ],
   "source": [
    "eval(expr)"
   ]
  },
  {
   "cell_type": "markdown",
   "metadata": {},
   "source": [
    "### Scoping with modules.\n",
    "\n",
    "Each module has its own 1-argument `eval` function to evaluate expressions within the scope of that module."
   ]
  },
  {
   "cell_type": "code",
   "execution_count": 69,
   "metadata": {},
   "outputs": [
    {
     "data": {
      "text/plain": [
       ":(x + y)"
      ]
     },
     "metadata": {},
     "output_type": "display_data"
    }
   ],
   "source": [
    "# Main module \n",
    "x = 10 \n",
    "y = 3\n",
    "expr = :(x+y)"
   ]
  },
  {
   "cell_type": "code",
   "execution_count": 70,
   "metadata": {},
   "outputs": [
    {
     "data": {
      "text/plain": [
       "Main.MyModule"
      ]
     },
     "metadata": {},
     "output_type": "display_data"
    }
   ],
   "source": [
    "module MyModule\n",
    "    x = 33\n",
    "    y = 1000\n",
    "end"
   ]
  },
  {
   "cell_type": "code",
   "execution_count": 71,
   "metadata": {},
   "outputs": [
    {
     "data": {
      "text/plain": [
       "13"
      ]
     },
     "metadata": {},
     "output_type": "display_data"
    }
   ],
   "source": [
    "Main.eval(expr)"
   ]
  },
  {
   "cell_type": "code",
   "execution_count": 72,
   "metadata": {},
   "outputs": [
    {
     "data": {
      "text/plain": [
       "1033"
      ]
     },
     "metadata": {},
     "output_type": "display_data"
    }
   ],
   "source": [
    "MyModule.eval(expr)"
   ]
  },
  {
   "cell_type": "markdown",
   "metadata": {},
   "source": [
    "### Side effects"
   ]
  },
  {
   "cell_type": "code",
   "execution_count": 73,
   "metadata": {},
   "outputs": [
    {
     "data": {
      "text/plain": [
       "10"
      ]
     },
     "metadata": {},
     "output_type": "display_data"
    }
   ],
   "source": [
    "x"
   ]
  },
  {
   "cell_type": "code",
   "execution_count": 74,
   "metadata": {},
   "outputs": [
    {
     "data": {
      "text/plain": [
       ":(x = 1)"
      ]
     },
     "metadata": {},
     "output_type": "display_data"
    }
   ],
   "source": [
    "ex = :(x=1)"
   ]
  },
  {
   "cell_type": "code",
   "execution_count": 75,
   "metadata": {},
   "outputs": [
    {
     "data": {
      "text/plain": [
       "10"
      ]
     },
     "metadata": {},
     "output_type": "display_data"
    }
   ],
   "source": [
    "eval(x)"
   ]
  },
  {
   "cell_type": "code",
   "execution_count": 76,
   "metadata": {},
   "outputs": [
    {
     "data": {
      "text/plain": [
       "10"
      ]
     },
     "metadata": {},
     "output_type": "display_data"
    }
   ],
   "source": [
    "x # in Main module"
   ]
  },
  {
   "cell_type": "code",
   "execution_count": 77,
   "metadata": {},
   "outputs": [
    {
     "data": {
      "text/plain": [
       "33"
      ]
     },
     "metadata": {},
     "output_type": "display_data"
    }
   ],
   "source": [
    "MyModule.x # x in MyModule has not changed"
   ]
  },
  {
   "cell_type": "code",
   "execution_count": 78,
   "metadata": {},
   "outputs": [
    {
     "data": {
      "text/plain": [
       "1"
      ]
     },
     "metadata": {},
     "output_type": "display_data"
    }
   ],
   "source": [
    "MyModule.eval(ex) # now it has, even though ex was defined in Main "
   ]
  },
  {
   "cell_type": "code",
   "execution_count": 79,
   "metadata": {},
   "outputs": [
    {
     "data": {
      "text/plain": [
       "1"
      ]
     },
     "metadata": {},
     "output_type": "display_data"
    }
   ],
   "source": [
    "MyModule.x"
   ]
  },
  {
   "cell_type": "markdown",
   "metadata": {},
   "source": [
    "# Functions on expressions "
   ]
  },
  {
   "cell_type": "code",
   "execution_count": 86,
   "metadata": {},
   "outputs": [
    {
     "data": {
      "text/plain": [
       "double_numeric_args (generic function with 1 method)"
      ]
     },
     "metadata": {},
     "output_type": "display_data"
    }
   ],
   "source": [
    "# stolen from the docs \n",
    "function double_numeric_args(binary_operation, arg1, arg2)\n",
    "    if isa(arg1,Number)\n",
    "        arg1 = 2*arg1\n",
    "    end\n",
    "    if isa(arg2,Number)\n",
    "        arg2 = 2*arg2\n",
    "    end\n",
    "    return Expr(:call, binary_operation, arg1, arg2)\n",
    "end"
   ]
  },
  {
   "cell_type": "code",
   "execution_count": 89,
   "metadata": {},
   "outputs": [
    {
     "data": {
      "text/plain": [
       ":(2 + 6)"
      ]
     },
     "metadata": {},
     "output_type": "display_data"
    }
   ],
   "source": [
    "double_numeric_args(:+, 1, 3)"
   ]
  },
  {
   "cell_type": "code",
   "execution_count": 90,
   "metadata": {},
   "outputs": [
    {
     "data": {
      "text/plain": [
       ":(2 + (1 + 2))"
      ]
     },
     "metadata": {},
     "output_type": "display_data"
    }
   ],
   "source": [
    "double_numeric_args(:+, 1, :(1+2))"
   ]
  },
  {
   "cell_type": "markdown",
   "metadata": {},
   "source": [
    "## Other useful applications\n",
    "\n",
    "Defining a suite of unary operations on a new type"
   ]
  },
  {
   "cell_type": "code",
   "execution_count": 91,
   "metadata": {},
   "outputs": [],
   "source": [
    "struct my_angle\n",
    "    a::Float64\n",
    "end\n",
    "\n",
    "for f in (:sin, :cos, :tan, :tanh, :cosh, :sinh, :exp)\n",
    "    @eval Base.$f(x::my_angle) = $f(x.a)\n",
    "end\n"
   ]
  },
  {
   "cell_type": "code",
   "execution_count": 92,
   "metadata": {},
   "outputs": [
    {
     "data": {
      "text/plain": [
       "my_angle(10.0)"
      ]
     },
     "metadata": {},
     "output_type": "display_data"
    }
   ],
   "source": [
    "x = my_angle(10.0)"
   ]
  },
  {
   "cell_type": "code",
   "execution_count": 93,
   "metadata": {},
   "outputs": [
    {
     "data": {
      "text/plain": [
       "-0.5440211108893698"
      ]
     },
     "metadata": {},
     "output_type": "display_data"
    }
   ],
   "source": [
    "sin(x)"
   ]
  },
  {
   "cell_type": "markdown",
   "metadata": {},
   "source": [
    "Defining a suite binary operations for various other concrete types"
   ]
  },
  {
   "cell_type": "code",
   "execution_count": 1,
   "metadata": {},
   "outputs": [],
   "source": [
    "struct my_matrix{T} <: AbstractArray{T,2} \n",
    "    a::Array{T,2}\n",
    "end"
   ]
  },
  {
   "cell_type": "code",
   "execution_count": 2,
   "metadata": {},
   "outputs": [],
   "source": [
    "concrete_types = (:Float64, :Int, :Complex)\n",
    "funs = (:+,:-,:*,:/,:\\)\n",
    "for type in concrete_types\n",
    "    for f in funs\n",
    "        @eval Base.$f(m::my_matrix,v::$type) = $f(m.a,v)\n",
    "        @eval Base.$f(v::$type,m::my_matrix) = $f(m.a,v)\n",
    "        @eval Base.$f(m::my_matrix,v::Array{$type,2}) = $f(m.a,v)\n",
    "        @eval Base.$f(v::Array{$type,2},m::my_matrix) = $f(m.a,v)\n",
    "    end\n",
    "end"
   ]
  },
  {
   "cell_type": "markdown",
   "metadata": {},
   "source": [
    "Although we should probably just define `Base.getindex`, `Base.size` then we would get all the `funs` for free by inheriting from `AbstractArray`"
   ]
  },
  {
   "cell_type": "code",
   "execution_count": 9,
   "metadata": {},
   "outputs": [],
   "source": [
    "# Base.size(x::my_matrix) = size(x.a)\n",
    "# Base.getindex(x::my_matrix,i) = x.a[i]\n",
    "# Base.getindex(x::my_matrix,i,j) = x.a[i,j]"
   ]
  },
  {
   "cell_type": "code",
   "execution_count": 3,
   "metadata": {},
   "outputs": [
    {
     "data": {
      "text/plain": [
       "2×2 Matrix{Float64}:\n",
       " -2.0   1.0\n",
       "  1.5  -0.5"
      ]
     },
     "metadata": {},
     "output_type": "display_data"
    }
   ],
   "source": [
    "M = my_matrix{Float64}([1.0 2.0; 3.0 4.0]);\n",
    "M\\[1.0 0.0; 0.0 1.0]"
   ]
  },
  {
   "cell_type": "markdown",
   "metadata": {},
   "source": [
    "# Macros\n",
    "\n",
    "Macros execute at *parse time* (not comple time or run time). They allow you to generate and include fragments of code before the program is run."
   ]
  },
  {
   "cell_type": "code",
   "execution_count": 1,
   "metadata": {},
   "outputs": [
    {
     "data": {
      "text/plain": [
       "@slow_calc (macro with 1 method)"
      ]
     },
     "metadata": {},
     "output_type": "display_data"
    }
   ],
   "source": [
    "macro slow_calc(x)\n",
    "    z = sum(collect(1:1000_000_000)) # big calc\n",
    "    return :($(esc(x))+$z)\n",
    "end"
   ]
  },
  {
   "cell_type": "code",
   "execution_count": 21,
   "metadata": {},
   "outputs": [
    {
     "data": {
      "text/plain": [
       ":(1.0 + 500000000500000000)"
      ]
     },
     "metadata": {},
     "output_type": "display_data"
    }
   ],
   "source": [
    "@macroexpand @slow_calc(1.0)"
   ]
  },
  {
   "cell_type": "code",
   "execution_count": 22,
   "metadata": {},
   "outputs": [
    {
     "data": {
      "text/plain": [
       "f_slow (generic function with 1 method)"
      ]
     },
     "metadata": {},
     "output_type": "display_data"
    }
   ],
   "source": [
    "function f_slow(x)\n",
    "    z = sum(collect(1:1000_000_000))\n",
    "    return x+z\n",
    "end"
   ]
  },
  {
   "cell_type": "code",
   "execution_count": 23,
   "metadata": {},
   "outputs": [
    {
     "data": {
      "text/plain": [
       "f_fast (generic function with 1 method)"
      ]
     },
     "metadata": {},
     "output_type": "display_data"
    }
   ],
   "source": [
    "function f_fast(x)\n",
    "    return @slow_calc(x)\n",
    "end"
   ]
  },
  {
   "cell_type": "code",
   "execution_count": 24,
   "metadata": {},
   "outputs": [
    {
     "data": {
      "text/plain": [
       "5.000000005e17"
      ]
     },
     "metadata": {},
     "output_type": "display_data"
    }
   ],
   "source": [
    "f_slow(1.0)"
   ]
  },
  {
   "cell_type": "code",
   "execution_count": 5,
   "metadata": {},
   "outputs": [
    {
     "data": {
      "text/plain": [
       "5.000000005e17"
      ]
     },
     "metadata": {},
     "output_type": "display_data"
    }
   ],
   "source": [
    "f_fast(1.0)"
   ]
  },
  {
   "cell_type": "code",
   "execution_count": 12,
   "metadata": {},
   "outputs": [
    {
     "data": {
      "text/plain": [
       "f_slow2 (generic function with 1 method)"
      ]
     },
     "metadata": {},
     "output_type": "display_data"
    }
   ],
   "source": [
    "function f_slow2(x)\n",
    "    return x+eval(:(sum(collect(1:1000_000_000))))\n",
    "end"
   ]
  },
  {
   "cell_type": "code",
   "execution_count": 16,
   "metadata": {},
   "outputs": [
    {
     "data": {
      "text/plain": [
       "f_slow3 (generic function with 1 method)"
      ]
     },
     "metadata": {},
     "output_type": "display_data"
    }
   ],
   "source": [
    "function f_slow3(x)\n",
    "    return eval(:($x+sum(collect(1:1000_000_000))))\n",
    "end"
   ]
  },
  {
   "cell_type": "code",
   "execution_count": 17,
   "metadata": {},
   "outputs": [
    {
     "data": {
      "text/plain": [
       "5.000000005e17"
      ]
     },
     "metadata": {},
     "output_type": "display_data"
    }
   ],
   "source": [
    "f_slow2(1.0)"
   ]
  },
  {
   "cell_type": "code",
   "execution_count": 18,
   "metadata": {},
   "outputs": [
    {
     "data": {
      "text/plain": [
       "5.000000005e17"
      ]
     },
     "metadata": {},
     "output_type": "display_data"
    }
   ],
   "source": [
    "f_slow3(1.0)"
   ]
  },
  {
   "cell_type": "markdown",
   "metadata": {},
   "source": [
    "# stolen!\n",
    "\n",
    "Macros\n",
    "Macros are special functions that transform expressions and insert the result back into your code.\n",
    "\n",
    "This can be useful for a variety of reasons.\n",
    "\n",
    "A convenient way to \"annotate\" expressions, like @inline f(x) = ...\n",
    "Provide tools that take expressions and use them for a task - @time, @code_typed, @benchmark, etc\n",
    "Create a useful shortcut to save on typing - Base.@nloops makes arbitry number of nested loops\n",
    "Create an entire DSL - like Query.jl, Flux.jl, etc."
   ]
  },
  {
   "cell_type": "markdown",
   "metadata": {},
   "source": [
    "https://github.com/FugroRoames/RoamesNotebooks/blob/master/A%20practical%20introduction%20to%20metaprogramming%20in%20Julia.ipynb"
   ]
  },
  {
   "cell_type": "markdown",
   "metadata": {},
   "source": [
    "https://gist.github.com/fcard/b735e642e6613feffad2d00f3c4298bd"
   ]
  },
  {
   "cell_type": "markdown",
   "metadata": {},
   "source": [
    "https://stackoverflow.com/questions/58137512/why-use-macros-in-julia\n",
    "\n",
    "https://github.com/cstjean/Unrolled.jl"
   ]
  },
  {
   "cell_type": "code",
   "execution_count": null,
   "metadata": {},
   "outputs": [
    {
     "data": {
      "text/plain": [
       "0.4872889457363563"
      ]
     },
     "metadata": {},
     "output_type": "display_data"
    }
   ],
   "source": [
    "y"
   ]
  }
 ],
 "metadata": {
  "kernelspec": {
   "display_name": "Julia 1.6.3",
   "language": "julia",
   "name": "julia-1.6"
  },
  "language_info": {
   "file_extension": ".jl",
   "mimetype": "application/julia",
   "name": "julia",
   "version": "1.6.3"
  },
  "orig_nbformat": 4
 },
 "nbformat": 4,
 "nbformat_minor": 2
}
